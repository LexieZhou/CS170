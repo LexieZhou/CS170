{
 "cells": [
  {
   "cell_type": "code",
   "execution_count": 1,
   "metadata": {
    "deletable": false,
    "editable": false
   },
   "outputs": [],
   "source": [
    "# Initialize Otter\n",
    "import otter\n",
    "grader = otter.Notebook(\"reductions.ipynb\")"
   ]
  },
  {
   "cell_type": "code",
   "execution_count": 2,
   "metadata": {},
   "outputs": [],
   "source": [
    "!pip install -r requirements.txt --quiet\n",
    "import otter\n",
    "grader = otter.Notebook(\"reductions.ipynb\")\n",
    "assert otter.__version__ >= \"4.2.0\", \"Please restart your kernel.\""
   ]
  },
  {
   "cell_type": "code",
   "execution_count": 3,
   "metadata": {},
   "outputs": [],
   "source": [
    "!pip install otter-grader --upgrade --quie"
   ]
  },
  {
   "cell_type": "code",
   "execution_count": 4,
   "metadata": {},
   "outputs": [],
   "source": [
    "import itertools\n",
    "import tqdm\n",
    "import time\n",
    "import random\n",
    "import math\n",
    "import pickle\n",
    "import matplotlib.pyplot as plt\n",
    "import pulp"
   ]
  },
  {
   "cell_type": "code",
   "execution_count": 5,
   "metadata": {},
   "outputs": [],
   "source": [
    "# load testing data\n",
    "with open('data.pkl', 'rb') as f:\n",
    "    U_test, S_test, ans_test = pickle.load(f)['testing']"
   ]
  },
  {
   "cell_type": "markdown",
   "metadata": {},
   "source": [
    "## Reductions\n",
    "In class, we've seen that we can *reduce* one problem to another, by converting an instance of problem $A$ to an instance of problem $B$. We've seen that this allows us to prove that $B$ is at least as hard as $A$, but this also allows us to use an efficient black-box solver for problem $B$ to solve problem $A$. \n",
    "\n",
    "Namely, there exist many solver packages for Integer Linear Programming (CPLEX, Gurobi) and SAT (Glucose, Maplesat, Z3) which have been highly optimized over the course of several decades. Although these solvers take exponential time since ILP and SAT are NP-complete, good solver packages use advanced algorithms and are highly optimized, meaning they are very fast on reasonably-sized inputs. Rather than implement a solver from scratch, it may be more efficient to reduce a problem to integer LP or SAT in polynomial time and then call an existing solver library. \n",
    "\n",
    "In this notebook, we'll see how to solve the optimization variant of Set Cover by reducing it to integer LP and calling a black-box ILP solver. "
   ]
  },
  {
   "cell_type": "markdown",
   "metadata": {},
   "source": [
    "## 1) Naive Set Cover\n",
    "We've seen how to approximate Set Cover using a greedy algorithm, this approximation may not always be exact. What if we want an exact answer? Since Set Cover is NP-hard, we can't do much better than brute force unless P=NP. Below, implement a brute force solver for the Set Cover optimization problem. \n",
    "\n",
    "More formally, implement a brute force algorithm for the following:\n",
    "\n",
    "Given $U$, a list of elements, and $S$, is a list of sets, find the minimal set cover of $U$ using $S$; that is, the combination of sets from $S$ which covers all elements in $U$ using as few sets as possible. Your answer should be a list of indices, where each index corresponds to a set in $S$ which is part of your set cover. Indices can be returned in any order. If no set cover is possible, return the empty list.\n",
    "\n",
    "For simplicity, you can assume that all elements in $U$ are integers.\n",
    "\n",
    "Hint: `itertools.combinations` may be useful here."
   ]
  },
  {
   "cell_type": "code",
   "execution_count": 6,
   "metadata": {},
   "outputs": [
    {
     "name": "stdout",
     "output_type": "stream",
     "text": [
      "subset: \n",
      "(0,)\n",
      "covered: \n",
      "{1, 2}\n",
      "keys: \n",
      "[0]\n",
      "subset: \n",
      "(1,)\n",
      "covered: \n",
      "{3, 4}\n",
      "keys: \n",
      "[1]\n",
      "subset: \n",
      "(2,)\n",
      "covered: \n",
      "{5, 6}\n",
      "keys: \n",
      "[2]\n",
      "subset: \n",
      "(0, 1)\n",
      "covered: \n",
      "{1, 2, 3, 4}\n",
      "keys: \n",
      "[0, 1]\n",
      "subset: \n",
      "(0, 2)\n",
      "covered: \n",
      "{1, 2, 5, 6}\n",
      "keys: \n",
      "[0, 2]\n",
      "subset: \n",
      "(1, 2)\n",
      "covered: \n",
      "{3, 4, 5, 6}\n",
      "keys: \n",
      "[1, 2]\n",
      "subset: \n",
      "(0, 1, 2)\n",
      "covered: \n",
      "{1, 2, 3, 4, 5, 6}\n",
      "keys: \n",
      "[0, 1, 2]\n"
     ]
    }
   ],
   "source": [
    "U = [1,3,5]\n",
    "S = [{1,2},{3,4},{5,6}]\n",
    "S_key = [0,1,2,]\n",
    "for size in range(1, len(S)+1):\n",
    "    #S_key_test = itertools.combinations(S_key, size)\n",
    "    for subset in itertools.combinations(range(len(S)), size):\n",
    "        print('subset: ')\n",
    "        print(subset)\n",
    "        covered = set().union(*[S[key] for key in subset])\n",
    "        print('covered: ')\n",
    "        print(covered)\n",
    "        for u in U:\n",
    "            if u not in covered:\n",
    "                break\n",
    "        print('keys: ')\n",
    "        print(list(subset))"
   ]
  },
  {
   "cell_type": "code",
   "execution_count": 7,
   "metadata": {
    "tags": []
   },
   "outputs": [],
   "source": [
    "def set_cover_naive(U, S):\n",
    "    '''\n",
    "    Brute-force impmenentation of the Set Cover optimization problem. \n",
    "\n",
    "    args:\n",
    "        - U:List[int] is a list of all of the elements that we wish to cover.\n",
    "        - S:List[Set[int]] is a list of sets; each set S[i] is a Python set of all of the items \n",
    "        that S[i] covers.\n",
    "    returns:\n",
    "        - List[int] depicting the minimal set cover of U. Each element in the \n",
    "            resulting list should be the index of a set in S. If there is no feasible cover, \n",
    "            return an empty list.\n",
    "    '''\n",
    "    #print('U: ', U)\n",
    "    #print(\"S: \", S)\n",
    "    for size in range(1, len(S)+1):\n",
    "        for subset in itertools.combinations(range(len(S)), size):\n",
    "            #print('subset: ')\n",
    "            #print(subset)\n",
    "            covered = set().union(*[S[key] for key in subset])\n",
    "            #print('covered: ')\n",
    "            #print(covered)\n",
    "            if set(U).issubset(covered):\n",
    "                #print(list(subset))\n",
    "                return list(subset)\n",
    "            else:\n",
    "                continue\n",
    "    return []"
   ]
  },
  {
   "cell_type": "markdown",
   "metadata": {},
   "source": [
    "To help you debug, we've given you some sample test cases and answers to test your implementation.\n",
    "\n",
    "Our tests are not comprehensive: we also encourage you to add your own test cases to test specific edge cases that might cause your code to fail."
   ]
  },
  {
   "cell_type": "code",
   "execution_count": 8,
   "metadata": {},
   "outputs": [
    {
     "name": "stderr",
     "output_type": "stream",
     "text": [
      "25it [00:04,  5.54it/s]\n"
     ]
    }
   ],
   "source": [
    "for U, S, ans in tqdm.tqdm(zip(U_test, S_test, ans_test)):\n",
    "    your_sol = set_cover_naive(U, S)\n",
    "\n",
    "    if len(your_sol) > 0:\n",
    "        assert ans > 0, 'Your solution says a feasible cover exists even though no such cover exists'\n",
    "\n",
    "        your_cover = set([j for i in your_sol for j in S[i]])\n",
    "        assert set(U).issubset(your_cover), 'Your solution does not cover all elements!'\n",
    "    else:\n",
    "        assert ans == 0, 'Your solution says no feasible cover exists even though a solution exists'\n",
    "\n",
    "    assert len(your_sol) == ans, f'Optimal solution has length {ans} but yours has length {len(your_sol)}'"
   ]
  },
  {
   "cell_type": "code",
   "execution_count": 9,
   "metadata": {
    "deletable": false,
    "editable": false
   },
   "outputs": [
    {
     "name": "stderr",
     "output_type": "stream",
     "text": [
      "100%|██████████| 120/120 [00:18<00:00,  6.32it/s]\n"
     ]
    },
    {
     "data": {
      "text/html": [
       "<p><strong><pre style='display: inline;'>q1</pre></strong> passed! 🚀</p>"
      ],
      "text/plain": [
       "q1 results: All test cases passed!"
      ]
     },
     "execution_count": 9,
     "metadata": {},
     "output_type": "execute_result"
    }
   ],
   "source": [
    "grader.check(\"q1\")"
   ]
  },
  {
   "cell_type": "markdown",
   "metadata": {},
   "source": [
    "## 2) Black-box ILP Solver\n",
    "\n",
    "<b> For this part, you don't have to submit anything. If you're already comfortable with mathematical modeling and using PuLP, feel free to skip to Q3.</b>\n",
    "\n",
    "By using a pre-made ILP solver library, much of the hard work is already done for us. We can assume that the solver gives correct results, and that the solver is pretty fast (as far as algorithms for NP-complete problems go).  \n",
    "\n",
    "For this assignment, we'll use PuLP, which is a Python wrapper for various LP and integer LP solvers. In general, we'll treat the solver like a black box -- besides the Simplex algorithm we saw in class, you don't need to know any other LP solver algorithms or understand how PuLP works internally. In this question, we'll walk through the basics of formulating and solving integer LPs with PuLP."
   ]
  },
  {
   "cell_type": "markdown",
   "metadata": {},
   "source": [
    "As an example, let's say we want to solve the following integer LP:\n",
    "$$\\min_x \\quad 3 x_0 + 4 x_1 + 6 x_2$$\n",
    "<center> such that </center>\n",
    "\n",
    "$$x_0 + 2 x_1 \\ge 5$$\n",
    "$$|x_1 - x_2| \\le 2$$\n",
    "$$x_0, x_1, x_2 \\in \\mathbb{N}$$"
   ]
  },
  {
   "cell_type": "markdown",
   "metadata": {},
   "source": [
    "First, we initialize a `pulp.LpProblem`. The constructor takes 2 arguments: \n",
    "1. The name of the problem (can be anything)\n",
    "2. An optimization direction (either `pulp.LpMinimize` or `pulp.LpMaximize`). "
   ]
  },
  {
   "cell_type": "code",
   "execution_count": 10,
   "metadata": {},
   "outputs": [],
   "source": [
    "problem = pulp.LpProblem('example_1', pulp.LpMinimize)"
   ]
  },
  {
   "cell_type": "markdown",
   "metadata": {},
   "source": [
    "Next, we define our *optimization variables*. The variable constructor takes in a name parameter, followed by a few keyword arguments. For our purposes, we'll just look at the keyword arguments `lowBound`, which sets a lower bound on the variable, and `cat`, which describes the type of variable (can be either `'Continuous'`, `'Integer'`, or `'Binary'`. Note that integer or binary variables will usually make our problem much harder to solve). \n",
    "\n",
    "Not only does PuLP support defining single variables, but PuLP also supports defining multiple variables at once with the `dicts` method. This takes in an additional parameter `indexs`, and returns a dictionary with elements of `indexs` as keys and the PuLP variables as the values. `indexs` could be any iterable, but here we'll use `range(3)` to make indexing easy. \n",
    "\n",
    "We'll also define an additional slack variable to deal with the absolute value constraint in our problem."
   ]
  },
  {
   "cell_type": "code",
   "execution_count": 11,
   "metadata": {},
   "outputs": [],
   "source": [
    "# Optimization variables\n",
    "x = pulp.LpVariable.dicts('x', range(3), lowBound=0, cat='Integer') \n",
    "# Slack variable\n",
    "t = pulp.LpVariable('t', lowBound=0, cat='Integer')"
   ]
  },
  {
   "cell_type": "markdown",
   "metadata": {},
   "source": [
    "After defining our variables, we must set the *objective function*. This should be an affine function, i.e. involving only a linear combination of the optimization variables plus some constant. To make indexing easier, we can also define a coefficient array and use a list comprehension (or generator expression)."
   ]
  },
  {
   "cell_type": "code",
   "execution_count": 12,
   "metadata": {},
   "outputs": [],
   "source": [
    "coeffs = [3, 4, 6]\n",
    "problem.setObjective(sum(c_i * x_i for c_i, x_i in zip(coeffs, x.values())))"
   ]
  },
  {
   "cell_type": "markdown",
   "metadata": {},
   "source": [
    "Finally, we'll define our *constraints*. PuLP supports `<=`, `>=`, and `==` constraints. Notice how we handled the absolute value constraint by using a slack variable. Also note that the nonnegativity constraints were taken care of using `lowBound` when we defined our variables, so we don't need to repeat them here."
   ]
  },
  {
   "cell_type": "code",
   "execution_count": 13,
   "metadata": {},
   "outputs": [],
   "source": [
    "problem.addConstraint(x[0] + 2*x[1] >= 5)\n",
    "\n",
    "# handle the absolute value constraint using slack variables\n",
    "problem.addConstraint(t >= x[1] - x[2])\n",
    "problem.addConstraint(t >= -1*(x[1] - x[2]))\n",
    "problem.addConstraint(t <= 2)"
   ]
  },
  {
   "cell_type": "markdown",
   "metadata": {},
   "source": [
    "We can print the problem to make sure our objective and constraints make sense:"
   ]
  },
  {
   "cell_type": "code",
   "execution_count": 14,
   "metadata": {},
   "outputs": [
    {
     "name": "stdout",
     "output_type": "stream",
     "text": [
      "example_1:\n",
      "MINIMIZE\n",
      "3*x_0 + 4*x_1 + 6*x_2 + 0\n",
      "SUBJECT TO\n",
      "_C1: x_0 + 2 x_1 >= 5\n",
      "\n",
      "_C2: t - x_1 + x_2 >= 0\n",
      "\n",
      "_C3: t + x_1 - x_2 >= 0\n",
      "\n",
      "_C4: t <= 2\n",
      "\n",
      "VARIABLES\n",
      "0 <= t Integer\n",
      "0 <= x_0 Integer\n",
      "0 <= x_1 Integer\n",
      "0 <= x_2 Integer\n",
      "\n"
     ]
    }
   ],
   "source": [
    "print(problem)"
   ]
  },
  {
   "cell_type": "markdown",
   "metadata": {},
   "source": [
    "To actually solve or LP, we just call `problem.solve()`. The method will return a 1 to tell us that it has successfully run. The method will return different status values if the problem is infeasible, unbounded or otherwise fails to solve. See the [documentation](https://www.coin-or.org/PuLP/constants.html#pulp.constants.LpStatus) for the full list of status values (this may be useful later on).\n",
    "\n",
    "Here, we pass `pulp.PULP_CBC_CMD(msg=0)` into `problem.solve()` to suppress console outputs and avoid cluttering the notebook. This is totally optional and can be removed if you like.\n",
    "\n",
    "After optimizing, we can get the optimum objective as shown below. The optimum variable values are stored in their respective variable objects."
   ]
  },
  {
   "cell_type": "code",
   "execution_count": 15,
   "metadata": {},
   "outputs": [
    {
     "name": "stdout",
     "output_type": "stream",
     "text": [
      "Optimal objective value: 11.0\n"
     ]
    }
   ],
   "source": [
    "problem.solve(pulp.PULP_CBC_CMD(msg=0))\n",
    "print(f'Optimal objective value: {problem.objective.value()}')"
   ]
  },
  {
   "cell_type": "markdown",
   "metadata": {},
   "source": [
    "After solving, the we can use this code to extract the optimum variable values."
   ]
  },
  {
   "cell_type": "code",
   "execution_count": 16,
   "metadata": {},
   "outputs": [
    {
     "data": {
      "text/plain": [
       "[('x_0', 1.0), ('x_1', 2.0), ('x_2', 0.0), ('t', 2.0)]"
      ]
     },
     "execution_count": 16,
     "metadata": {},
     "output_type": "execute_result"
    }
   ],
   "source": [
    "[(v.name, v.value()) for v in problem.variablesDict().values()]"
   ]
  },
  {
   "cell_type": "markdown",
   "metadata": {},
   "source": [
    "If we're only worried about $x$ values and don't care about the slack variable values, we could also just check the values of the $x$ variables directly (remember that $x$ is a dictionary!):"
   ]
  },
  {
   "cell_type": "code",
   "execution_count": 17,
   "metadata": {},
   "outputs": [
    {
     "data": {
      "text/plain": [
       "[('x_0', 1.0), ('x_1', 2.0), ('x_2', 0.0)]"
      ]
     },
     "execution_count": 17,
     "metadata": {},
     "output_type": "execute_result"
    }
   ],
   "source": [
    "[(x_i.name, x_i.value()) for x_i in x.values()]"
   ]
  },
  {
   "cell_type": "markdown",
   "metadata": {},
   "source": [
    "## 3) Using the Solver\n",
    "Now it's your turn! Use PuLP to solve the following LP:\n",
    "$$\\max_x \\quad \\sum_{i=1}^5 2^{5-i} x_i$$\n",
    "<center> such that </center>\n",
    "\n",
    "$$2 \\sum_{j=1}^{i} 2^{i-j} x_j \\le 100^{i-1} \\quad \\forall \\, 1 \\le i \\le 5$$\n",
    "$$x_i \\ge 0 \\quad \\forall i$$\n",
    "\n",
    "Then, store your answer for the optimal objective value in the variable `sol`.\n",
    "\n",
    "**Fun fact:** This particular LP is known as the Klee-Minty problem, and is an example of a problem where Dantzig's Simplex algorithm requires an exponential number of iterations."
   ]
  },
  {
   "cell_type": "code",
   "execution_count": 18,
   "metadata": {
    "tags": []
   },
   "outputs": [
    {
     "name": "stdout",
     "output_type": "stream",
     "text": [
      "q3:\n",
      "MAXIMIZE\n",
      "16*x_1 + 8*x_2 + 4*x_3 + 2*x_4 + 1*x_5 + 0\n",
      "SUBJECT TO\n",
      "_C1: 2 x_1 <= 1\n",
      "\n",
      "_C2: 4 x_1 + 2 x_2 <= 100\n",
      "\n",
      "_C3: 8 x_1 + 4 x_2 + 2 x_3 <= 10000\n",
      "\n",
      "_C4: 16 x_1 + 8 x_2 + 4 x_3 + 2 x_4 <= 1000000\n",
      "\n",
      "_C5: 32 x_1 + 16 x_2 + 8 x_3 + 4 x_4 + 2 x_5 <= 100000000\n",
      "\n",
      "VARIABLES\n",
      "x_1 Continuous\n",
      "x_2 Continuous\n",
      "x_3 Continuous\n",
      "x_4 Continuous\n",
      "x_5 Continuous\n",
      "\n"
     ]
    }
   ],
   "source": [
    "problem = pulp.LpProblem('q3', pulp.LpMaximize)\n",
    "# Optimization variables\n",
    "x = pulp.LpVariable.dicts('x', range(1, 6), lowBound=0, cat='Continuous') \n",
    "# Slack variable\n",
    "t = pulp.LpVariable('t', lowBound=0, cat='Integer')\n",
    "coeffs = []\n",
    "for i in range(1, 6):\n",
    "    coeffs.append(2**(5-i))\n",
    "problem.setObjective(sum(c_i * x_i for c_i, x_i in zip(coeffs, x.values())))\n",
    "problem.addConstraint(2*x[1] <= 1)\n",
    "problem.addConstraint(4*x[1]+2*x[2] <= 100)\n",
    "problem.addConstraint(8*x[1]+4*x[2]+2*x[3] <= 10000)\n",
    "problem.addConstraint(16*x[1]+8*x[2]+4*x[3]+2*x[4] <= 1000000)\n",
    "problem.addConstraint(32*x[1]+16*x[2]+8*x[3]+4*x[4]+2*x[5] <= 100000000)\n",
    "print(problem)"
   ]
  },
  {
   "cell_type": "code",
   "execution_count": 19,
   "metadata": {},
   "outputs": [
    {
     "data": {
      "text/plain": [
       "1"
      ]
     },
     "execution_count": 19,
     "metadata": {},
     "output_type": "execute_result"
    }
   ],
   "source": [
    "problem.solve(pulp.PULP_CBC_CMD(msg=0))"
   ]
  },
  {
   "cell_type": "code",
   "execution_count": 20,
   "metadata": {},
   "outputs": [],
   "source": [
    "sol = problem.objective.value()"
   ]
  },
  {
   "cell_type": "code",
   "execution_count": 21,
   "metadata": {
    "deletable": false,
    "editable": false
   },
   "outputs": [
    {
     "data": {
      "text/html": [
       "<p><strong><pre style='display: inline;'>q3</pre></strong> passed! 🌈</p>"
      ],
      "text/plain": [
       "q3 results: All test cases passed!"
      ]
     },
     "execution_count": 21,
     "metadata": {},
     "output_type": "execute_result"
    }
   ],
   "source": [
    "grader.check(\"q3\")"
   ]
  },
  {
   "cell_type": "markdown",
   "metadata": {},
   "source": [
    "## 4) Reducing Set Cover to ILP\n",
    "Now that we know how to formulate and solve ILPs, let's complete the reduction. Implement `set_cover_reduction`, in which you should:\n",
    "1. Construct an instance of ILP based on the problem instance given\n",
    "2. Solve the ILP using PuLP\n",
    "3. Use the solution to the ILP to construct the optimal solution to Set Cover\n",
    "\n",
    "Since PuLP methods are highly optimized, you should notice that the reduction-based solver runs much more quickly than your naive solution.\n"
   ]
  },
  {
   "cell_type": "code",
   "execution_count": 31,
   "metadata": {
    "tags": []
   },
   "outputs": [],
   "source": [
    "def set_cover_reduction(U, S):\n",
    "    '''\n",
    "    Impmenentation of the Set Cover optimization problem using reduction to ILP. \n",
    "\n",
    "        args:\n",
    "        - U:List[int] is a list of all of the elements that we wish to cover.\n",
    "        - S:List[Set[int]] is a list of sets; each set S[i] is a Python set of all of the items \n",
    "        that S[i] covers.\n",
    "    returns:\n",
    "        - List[int] depicting the minimal set cover of U. Each element in the \n",
    "            resulting list should be the index of a set in S. If there is no feasible cover, \n",
    "            return an empty list.\n",
    "    '''\n",
    "    # Initialize the optimization problem\n",
    "    problem = pulp.LpProblem('Set Cover', pulp.LpMinimize)\n",
    "    x = pulp.LpVariable.dicts('x', range(len(S)), lowBound=0, cat='Integer')\n",
    "\n",
    "    problem.setObjective(sum(x_i for x_i in x.values()))\n",
    "\n",
    "    # Add the constraints: each element in U must be covered\n",
    "    for element in U:\n",
    "        problem.addConstraint(pulp.lpSum(x[i] for i in range(len(S)) if element in S[i]) >= 1)\n",
    "    '''\n",
    "    for element in U:\n",
    "        covering_sets = [S[i] for i in range(len(S)) if element in S[i]]\n",
    "        sum_covering_sets = sum(x[i] for i in range(len(S)) if S[i] in covering_sets)\n",
    "        problem.addConstraint(sum_covering_sets >= 1)\n",
    "    '''\n",
    "\n",
    "    #print(problem)\n",
    "    problem.solve(pulp.PULP_CBC_CMD(msg=0))\n",
    "    if pulp.LpStatus[problem.status] == 'Infeasible' or pulp.LpStatus[problem.status] == 'Unbounded':\n",
    "        return []\n",
    "    minimal_cover = [i for i in range(len(S)) if x[i].value() == 1]\n",
    "\n",
    "    return minimal_cover"
   ]
  },
  {
   "cell_type": "markdown",
   "metadata": {},
   "source": [
    "Again, we've provided you with some basic validation code. \n",
    "\n",
    "Our tests are not comprehensive: we also encourage you to add your own test cases to test specific edge cases that might cause your code to fail."
   ]
  },
  {
   "cell_type": "code",
   "execution_count": 32,
   "metadata": {},
   "outputs": [
    {
     "name": "stderr",
     "output_type": "stream",
     "text": [
      "25it [00:01, 17.63it/s]\n"
     ]
    }
   ],
   "source": [
    "for U, S, ans in tqdm.tqdm(zip(U_test, S_test, ans_test)):\n",
    "    your_sol = set_cover_reduction(U, S)\n",
    "\n",
    "    if len(your_sol) > 0:\n",
    "        assert ans > 0, 'Your solution says a feasible cover exists even though no such cover exists'\n",
    "\n",
    "        your_cover = set([j for i in your_sol for j in S[i]])\n",
    "        assert set(U).issubset(your_cover), 'Your solution does not cover all elements!'\n",
    "    else:\n",
    "        assert ans == 0, 'Your solution says no feasible cover exists even though a solution exists'\n",
    "\n",
    "    assert len(your_sol) == ans, f'Optimal solution has length {ans} but yours has length {len(your_sol)}'"
   ]
  },
  {
   "cell_type": "code",
   "execution_count": 33,
   "metadata": {
    "deletable": false,
    "editable": false
   },
   "outputs": [
    {
     "name": "stdout",
     "output_type": "stream",
     "text": [
      "Testing correctness...\n"
     ]
    },
    {
     "name": "stderr",
     "output_type": "stream",
     "text": [
      "100%|██████████| 165/165 [00:14<00:00, 11.67it/s]\n"
     ]
    },
    {
     "name": "stdout",
     "output_type": "stream",
     "text": [
      "Checking runtime...\n"
     ]
    },
    {
     "name": "stderr",
     "output_type": "stream",
     "text": [
      "165it [01:58,  1.40it/s]\n"
     ]
    },
    {
     "name": "stdout",
     "output_type": "stream",
     "text": [
      "Approximate speedup: 5.913\n"
     ]
    },
    {
     "data": {
      "image/png": "[encoded data removed]",
      "text/plain": [
       "<Figure size 432x288 with 1 Axes>"
      ]
     },
     "metadata": {
      "needs_background": "light"
     },
     "output_type": "display_data"
    },
    {
     "data": {
      "text/html": [
       "<p><strong><pre style='display: inline;'>q4</pre></strong> passed! 🍀</p>"
      ],
      "text/plain": [
       "q4 results: All test cases passed!"
      ]
     },
     "execution_count": 33,
     "metadata": {},
     "output_type": "execute_result"
    }
   ],
   "source": [
    "grader.check(\"q4\")"
   ]
  },
  {
   "cell_type": "markdown",
   "metadata": {},
   "source": [
    "After running the q4 tests and looking at the generated graph, you should see that the naive solver is faster than the ILP reduction for small examples but the ILP reduction is faster for large examples. This highlights some of the tradeoffs between the two approaches: the ILP solver is more efficient for larger examples, but calling the solver incurs additional overhead, making it slower for small cases. On the flip side, the naive solver introduces relatively little additional overhead, but performs poorly on larger problems."
   ]
  },
  {
   "cell_type": "markdown",
   "metadata": {
    "deletable": false,
    "editable": false
   },
   "source": [
    "## Submission\n",
    "\n",
    "Make sure you have run all cells in your notebook in order before running the cell below, so that all images/graphs appear in the output. The cell below will generate a zip file for you to submit."
   ]
  },
  {
   "cell_type": "code",
   "execution_count": null,
   "metadata": {
    "deletable": false,
    "editable": false
   },
   "outputs": [],
   "source": [
    "grader.export(pdf=False, force_save=True, run_tests=True)"
   ]
  },
  {
   "cell_type": "markdown",
   "metadata": {},
   "source": [
    " "
   ]
  }
 ],
 "metadata": {
  "kernelspec": {
   "display_name": "Python 3 (ipykernel)",
   "language": "python",
   "name": "python3"
  },
  "language_info": {
   "codemirror_mode": {
    "name": "ipython",
    "version": 3
   },
   "file_extension": ".py",
   "mimetype": "text/x-python",
   "name": "python",
   "nbconvert_exporter": "python",
   "pygments_lexer": "ipython3",
   "version": "3.9.9"
  },
  "otter": {
   "OK_FORMAT": false,
   "assignment_name": "reductions",
   "tests": {
    "q1": "from otter.test_files import test_case\n\nOK_FORMAT = False\n\nname = \"q1\"\npoints = 1.0\n\n@test_case(points=None, hidden=False)\ndef test_q1(set_cover_naive, pickle, tqdm, random):\n    def check_correctness(solver_fn, U, S, ans):\n        student_ans = solver_fn(U, S)\n\n        # input validation: check that student sol gives a list with valid elements\n        assert student_ans is not None, 'Your solution should return a list of sets from S, or an empty list'\n        assert type(student_ans) in [list, tuple], 'Your solution should return a list of sets from S, or an empty list'\n        assert len(student_ans) == 0 or (min(student_ans) >= 0 and max(student_ans) < len(S)), \\\n            'All items in your solution should be valid indices of S'\n        \n        # check feasibility\n        if len(student_ans) > 0:\n            assert ans > 0, 'Your solution says a feasible cover exists even though no such cover exists'\n\n            student_cover = set.union(*[S[i] for i in student_ans])\n            assert set(U).issubset(student_cover), 'Your solution does not cover all elements!'\n        else:\n            assert ans == 0, 'Your solution says no feasible cover exists even though a solution exists'\n\n        # check optimality\n        assert len(student_ans) == ans, f'Your solution uses {len(student_ans)} sets while the optimal set cover uses {ans} sets'\n\n    # load data\n    with open('data.pkl', 'rb') as f:\n        U_all, S_all, ans_all, N_PER_SIZE = pickle.load(f)['q1']\n    # skip some cases to save time\n    n_test = 40*N_PER_SIZE\n\n    # shuffle dataset to make it harder to return an iterator over the solutions\n    problems = list(zip(U_all, S_all, ans_all))[:n_test]\n    random.shuffle(problems)\n\n    for U, S, ans in tqdm.tqdm(problems):\n        check_correctness(set_cover_naive, U, S, ans)\n\n",
    "q3": "from otter.test_files import test_case\n\nOK_FORMAT = False\n\nname = \"q3\"\npoints = 2.0\n\n@test_case(points=None, hidden=False)\ndef test_q3(sol, pickle, math):\n    with open('data.pkl', 'rb') as f:\n        staff_sol = pickle.load(f)['q3']\n    assert math.isclose(sol, staff_sol), 'Your solution is not correct, double check your LP formulation.'\n\n",
    "q4": "from otter.test_files import test_case\n\nOK_FORMAT = False\n\nname = \"q4\"\npoints = 4.0\n\n@test_case(points=None, hidden=False)\ndef test_q4(set_cover_naive, set_cover_reduction, pulp, pickle, plt, tqdm, random, time):\n    def check_correctness(solver_fn, U, S, ans):\n        student_ans = solver_fn(U, S)\n\n        # input validation: check that student sol gives a list with valid elements\n        assert student_ans is not None, 'Your solution should return a list of sets from S, or an empty list'\n        assert type(student_ans) in [list, tuple], 'Your solution should return a list of sets from S, or an empty list'\n        assert len(student_ans) == 0 or (min(student_ans) >= 0 and max(student_ans) < len(S)), \\\n            'All items in your solution should be valid indices of S'\n        \n        # check feasibility\n        if len(student_ans) > 0:\n            assert ans > 0, 'Your solution says a feasible cover exists even though no such cover exists'\n\n            student_cover = set.union(*[S[i] for i in student_ans])\n            assert set(U).issubset(student_cover), 'Your solution does not cover all elements!'\n        else:\n            assert ans == 0, 'Your solution says no feasible cover exists even though a solution exists'\n\n        # check optimality\n        assert len(student_ans) == ans, f'Your solution uses {len(student_ans)} sets while the optimal set cover uses {ans} sets'\n\n    # check correctness\n    print('Testing correctness...')\n    with open('data.pkl', 'rb') as f:\n        U_all, S_all, ans_all, N_PER_SIZE = pickle.load(f)['q1']\n\n    # shuffle dataset to make it harder to return an iterator over the solutions\n    problems = list(zip(U_all, S_all, ans_all))\n    random.shuffle(problems)\n\n    for U, S, ans in tqdm.tqdm(problems):\n        check_correctness(set_cover_reduction, U, S, ans)\n\n    # check time complexity\n    print('Checking runtime...')\n    required_speedup = 2\n\n    reduction_times = [0]* (len(U_all)//N_PER_SIZE)\n    naive_times = [0]* (len(U_all)//N_PER_SIZE)\n    for i, (U, S, ans) in tqdm.tqdm(enumerate(list(zip(U_all, S_all, ans_all)))):\n        start = time.time()\n        set_cover_reduction(U, S)\n        end = time.time()\n        reduction_times[i//N_PER_SIZE] += (end - start) / N_PER_SIZE\n\n        start = time.time()\n        set_cover_naive(U, S)\n        end = time.time()\n        naive_times[i//N_PER_SIZE] += (end - start) / N_PER_SIZE\n\n    print(f'Approximate speedup: {sum(naive_times) / sum(reduction_times):.3f}')\n    plt.plot(reduction_times)\n    plt.plot(naive_times)\n    plt.title('Log runtimes vs. problem size')\n    plt.xlabel('Number of elements in U')\n    plt.ylabel('Runtimes (log seconds)')\n    plt.yscale('log')\n    plt.legend(['reduction', 'naive'])\n    plt.show()\n    assert required_speedup*sum(reduction_times) <= sum(naive_times), f'Your reduction solution should yield a {required_speedup}x average speedup compared to your naive implementation'\n\n"
   }
  },
  "vscode": {
   "interpreter": {
    "hash": "4ff930cc6434cf5ccd42f06f22ab8969b52db437e9cd84cd1ea3cec80e9cab32"
   }
  }
 },
 "nbformat": 4,
 "nbformat_minor": 2
}
